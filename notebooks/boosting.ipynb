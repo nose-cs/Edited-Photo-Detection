{
 "cells": [
  {
   "cell_type": "code",
   "execution_count": null,
   "metadata": {},
   "outputs": [],
   "source": [
    "from utils import prepare_image_forgery_dataset\n",
    "\n",
    "data_directory = '../data'\n",
    "\n",
    "X_train, X_test, y_train, y_test = prepare_image_forgery_dataset(total_number=100, test_size=0.2, random_state=42, data_directory=data_directory)"
   ]
  },
  {
   "cell_type": "code",
   "execution_count": null,
   "metadata": {},
   "outputs": [],
   "source": [
    "from sklearn.metrics import accuracy_score\n",
    "from models.cnn import CNNImageForgeryDetector\n",
    "from models.svm import SVMImageForgeryDetector\n",
    "from models.fine_tuning import TransferLearningImageForgeryDetector\n",
    "\n",
    "base_models = [TransferLearningImageForgeryDetector() for _ in range(1)] + \\\n",
    "              [SVMImageForgeryDetector(use_edges=False, use_noise=False, use_texture=False) for _ in range(1)] + \\\n",
    "              [CNNImageForgeryDetector() for _ in range(1)]"
   ]
  },
  {
   "cell_type": "code",
   "execution_count": null,
   "metadata": {},
   "outputs": [],
   "source": [
    "from models.boosting import CustomBoostingImageForgeryDetector\n",
    "\n",
    "boosting_model = CustomBoostingImageForgeryDetector(base_models, n_estimators=5, learning_rate=0.1)\n",
    "boosting_model.fit(X_train, y_train)"
   ]
  },
  {
   "cell_type": "code",
   "execution_count": null,
   "metadata": {},
   "outputs": [],
   "source": [
    "boosting_model.print_history()"
   ]
  },
  {
   "cell_type": "code",
   "execution_count": null,
   "metadata": {},
   "outputs": [],
   "source": [
    "y_pred = boosting_model.predict(X_test)\n",
    "accuracy = accuracy_score(y_test, y_pred)\n",
    "print(f\"Accuracy: {accuracy}\")"
   ]
  }
 ],
 "metadata": {
  "kernelspec": {
   "display_name": "anabelbg",
   "language": "python",
   "name": "python3"
  },
  "language_info": {
   "codemirror_mode": {
    "name": "ipython",
    "version": 3
   },
   "file_extension": ".py",
   "mimetype": "text/x-python",
   "name": "python",
   "nbconvert_exporter": "python",
   "pygments_lexer": "ipython3",
   "version": "3.9.13"
  }
 },
 "nbformat": 4,
 "nbformat_minor": 2
}
