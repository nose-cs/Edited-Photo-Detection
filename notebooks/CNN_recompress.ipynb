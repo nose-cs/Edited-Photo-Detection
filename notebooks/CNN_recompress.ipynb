{
 "cells": [
  {
   "cell_type": "code",
   "execution_count": null,
   "metadata": {},
   "outputs": [],
   "source": [
    "import tensorflow as tf\n",
    "from tensorflow.keras.models import Sequential\n",
    "from tensorflow.keras.layers import Conv2D, MaxPooling2D, Dense, Flatten\n",
    "from tensorflow.keras.optimizers import Adam\n",
    "import numpy as np\n",
    "from sklearn.model_selection import train_test_split\n",
    "import os\n",
    "import cv2"
   ]
  },
  {
   "cell_type": "code",
   "execution_count": null,
   "metadata": {},
   "outputs": [],
   "source": [
    "def Image_Forgery_Predictor_Model():\n",
    "    model = Sequential([\n",
    "        Conv2D(32, (3, 3), activation='relu', input_shape=(128, 128, 3)),\n",
    "        Conv2D(32, (3, 3), activation='relu'),\n",
    "        Conv2D(32, (3, 3), activation='relu'),\n",
    "        MaxPooling2D(pool_size=(2, 2)),\n",
    "        Flatten(),\n",
    "        Dense(256, activation='relu'),\n",
    "        Dense(2, activation='sigmoid')\n",
    "    ])\n",
    "    model.compile(optimizer=Adam(), loss='binary_crossentropy', metrics=['accuracy'])\n",
    "    return model\n"
   ]
  },
  {
   "cell_type": "code",
   "execution_count": null,
   "metadata": {},
   "outputs": [],
   "source": [
    "def recomprimir_imagen_tf(imagen, calidad=50):\n",
    "    imagen_jpeg = tf.image.encode_jpeg(imagen, quality=calidad)\n",
    "    imagen_recomprimida = tf.image.decode_jpeg(imagen_jpeg)\n",
    "    return imagen_recomprimida\n",
    "\n",
    "def preprocess_image(image):\n",
    "    image_compressed = recomprimir_imagen_tf(image, calidad=50)\n",
    "    diff = tf.abs(tf.cast(image, tf.int32) - tf.cast(image_compressed, tf.int32))\n",
    "    resized = tf.image.resize(diff, (128, 128))\n",
    "    return resized\n",
    "\n"
   ]
  },
  {
   "cell_type": "code",
   "execution_count": null,
   "metadata": {},
   "outputs": [],
   "source": [
    "def train_model(images, labels, epochs=10):\n",
    "    model = Image_Forgery_Predictor_Model()\n",
    "    training_data = []\n",
    "    for image in images:\n",
    "        diff_image = preprocess_image(image)\n",
    "        training_data.append(diff_image)\n",
    "    training_data = np.array(training_data)\n",
    "    labels = np.array(labels)\n",
    "    \n",
    "    # Dividir los datos en conjuntos de entrenamiento y validación\n",
    "    X_train, X_val, y_train, y_val = train_test_split(training_data, labels, test_size=0.2, random_state=42)\n",
    "    \n",
    "    # Convertir las etiquetas a una representación binaria\n",
    "    y_train = tf.keras.utils.to_categorical(y_train, num_classes=2)\n",
    "    y_val = tf.keras.utils.to_categorical(y_val, num_classes=2)\n",
    "    \n",
    "    model.fit(X_train, y_train, validation_data=(X_val, y_val), epochs=epochs)\n",
    "    return model\n"
   ]
  },
  {
   "cell_type": "code",
   "execution_count": null,
   "metadata": {},
   "outputs": [],
   "source": [
    "def predict_image(model, input_image):\n",
    "    input_diff_image = preprocess_image(input_image)\n",
    "    input_diff_image = np.expand_dims(input_diff_image, axis=0)  # Añadir dimensión de lote\n",
    "    predicted_label = model.predict(input_diff_image)\n",
    "    if predicted_label[0][0] > predicted_label[0][1]:\n",
    "        return \"Tampered\"\n",
    "    else:\n",
    "        return \"Untampered\"\n"
   ]
  },
  {
   "cell_type": "code",
   "execution_count": null,
   "metadata": {},
   "outputs": [],
   "source": [
    "# Path to your CASIA2 dataset\n",
    "PATH = '../data/CASIA2'\n",
    "\n",
    "# Directories for authentic and tampered images\n",
    "authentic_dir = os.path.join(PATH, 'Au')\n",
    "tampered_dir = os.path.join(PATH, 'Tp2')\n",
    "\n",
    "BATCH_SIZE = 32\n",
    "IMG_SIZE = (160, 160)\n",
    "\n",
    "def load_tif_image(file_path):\n",
    "    # Cargar la imagen usando Pillow\n",
    "    image = Image.open(file_path)\n",
    "    # Convertir la imagen a un arreglo numpy\n",
    "    image_array = np.array(image)\n",
    "    # Convertir el arreglo numpy a un tensor de TensorFlow\n",
    "    return tf.convert_to_tensor(image_array)\n",
    "\n",
    "def load_images_from_directory(directory_path,n):\n",
    "    images = []\n",
    "    for filename in os.listdir(directory_path)[:n]:\n",
    "        if filename.endswith(\".tif\") or filename.endswith(\".tiff\"):\n",
    "            image_path = os.path.join(directory_path, filename)\n",
    "            image_tensor = load_tif_image(image_path)\n",
    "            resized = tf.image.resize(image_tensor, IMG_SIZE)\n",
    "            images.append(resized)\n",
    "        elif filename.endswith(\".jpg\") or filename.endswith(\".jpeg\") or filename.endswith(\".png\"):\n",
    "            image_path = os.path.join(directory_path, filename)\n",
    "            imagen_original = tf.io.read_file(image_path)\n",
    "            imagen_original = tf.image.decode_jpeg(imagen_original, channels=3)\n",
    "            images.append(imagen_original)\n",
    "    return images\n",
    "\n",
    "# Get file lists and labels\n",
    "authentic_files = load_images_from_directory(authentic_dir, 100)\n",
    "tampered_files = load_images_from_directory(tampered_dir, 100)\n",
    "authentic_labels = [0] * len(authentic_files)\n",
    "tampered_labels = [0] * len(tampered_files)\n",
    "\n",
    "# Combine authentic and tampered data\n",
    "all_files = authentic_files + tampered_files\n",
    "all_labels = authentic_labels + tampered_labels\n",
    "\n",
    "# Split the data into training and validation sets\n",
    "train_files, val_files, train_labels, val_labels = train_test_split(\n",
    "    all_files, all_labels, test_size=0.2, random_state=42, stratify=all_labels\n",
    ")"
   ]
  },
  {
   "cell_type": "code",
   "execution_count": null,
   "metadata": {},
   "outputs": [],
   "source": [
    "# Entrenar el modelo\n",
    "model = train_model(train_files, train_labels, epochs=10)"
   ]
  }
 ],
 "metadata": {
  "kernelspec": {
   "display_name": "base",
   "language": "python",
   "name": "python3"
  },
  "language_info": {
   "codemirror_mode": {
    "name": "ipython",
    "version": 3
   },
   "file_extension": ".py",
   "mimetype": "text/x-python",
   "name": "python",
   "nbconvert_exporter": "python",
   "pygments_lexer": "ipython3",
   "version": "3.9.13"
  }
 },
 "nbformat": 4,
 "nbformat_minor": 2
}
