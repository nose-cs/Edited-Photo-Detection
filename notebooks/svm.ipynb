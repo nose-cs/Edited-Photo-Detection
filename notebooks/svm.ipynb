{
 "cells": [
  {
   "cell_type": "code",
   "execution_count": null,
   "metadata": {},
   "outputs": [],
   "source": [
    "import cv2\n",
    "import numpy as np\n",
    "import tensorflow as tf\n",
    "from sklearn import svm\n",
    "from sklearn.model_selection import train_test_split\n",
    "from skimage.feature import greycomatrix, greycoprops\n",
    "import os"
   ]
  },
  {
   "cell_type": "code",
   "execution_count": null,
   "metadata": {},
   "outputs": [],
   "source": [
    "# Path to your CASIA2 dataset\n",
    "PATH = '../data/CASIA2'\n",
    "\n",
    "# Directories for authentic and tampered images\n",
    "authentic_dir = os.path.join(PATH, 'Au')\n",
    "tampered_dir = os.path.join(PATH, 'Tp2')\n",
    "\n",
    "IMG_SIZE = (160, 160)\n",
    "\n",
    "def get_file_list_and_labels(directory, label):\n",
    "    file_list = []\n",
    "    labels = []\n",
    "    for root, _, files in os.walk(directory):\n",
    "        for file in files:\n",
    "            if file.lower().endswith(('.png', '.jpg', '.jpeg')):\n",
    "                file_list.append(os.path.join(root, file))\n",
    "                labels.append(label)\n",
    "    return file_list, labels\n",
    "\n",
    "# Get file lists and labels\n",
    "authentic_files, authentic_labels = get_file_list_and_labels(authentic_dir, 0)\n",
    "tampered_files, tampered_labels = get_file_list_and_labels(tampered_dir, 1)\n",
    "\n",
    "# Combine authentic and tampered data\n",
    "all_files = tampered_files + authentic_files\n",
    "all_labels = tampered_labels + authentic_labels"
   ]
  },
  {
   "cell_type": "code",
   "execution_count": null,
   "metadata": {},
   "outputs": [],
   "source": [
    "def load_and_preprocess_image(image_path):\n",
    "    image = cv2.imread(image_path, cv2.IMREAD_GRAYSCALE)\n",
    "    # Check if the image is loaded correctly\n",
    "    if image is None:\n",
    "        raise ValueError(f\"Image at {image_path} could not be loaded.\")\n",
    "    # Resize image\n",
    "    image = cv2.resize(image, IMG_SIZE)\n",
    "    return image\n",
    "\n",
    "# Cargar imágenes\n",
    "images = [load_and_preprocess_image(path) for path in all_files] # leer del dataset"
   ]
  },
  {
   "cell_type": "code",
   "execution_count": null,
   "metadata": {},
   "outputs": [],
   "source": [
    "def fourier_transform(image):\n",
    "    f = np.fft.fft2(image)\n",
    "    fshift = np.fft.fftshift(f)\n",
    "    magnitude_spectrum = 20*np.log(np.abs(fshift))\n",
    "    return magnitude_spectrum\n",
    "\n",
    "def noise_features(image):\n",
    "    # modelo de ruido básico\n",
    "    mean_noise = np.mean(image)\n",
    "    std_noise = np.std(image)\n",
    "    return mean_noise, std_noise\n",
    "\n",
    "def edge_detection(image):\n",
    "    edges = cv2.Canny(image, 100, 200)\n",
    "    return edges\n",
    "\n",
    "def texture_features(image):\n",
    "    g = greycomatrix(image, [1], [0, np.pi/4, np.pi/2, 3*np.pi/4], levels=256)\n",
    "    contrast = greycoprops(g, 'contrast')\n",
    "    return np.mean(contrast)\n",
    "\n",
    "# Compatible with grey scale \n",
    "def segment_image(image, k=4):\n",
    "    # Flatten the image to a 1D array suitable for k-means\n",
    "    Z = image.reshape((-1, 1))\n",
    "\n",
    "    # Convert to float32\n",
    "    Z = np.float32(Z)\n",
    "\n",
    "    # Criteria and k-means application\n",
    "    criteria = (cv2.TERM_CRITERIA_EPS + cv2.TERM_CRITERIA_MAX_ITER, 10, 1.0)\n",
    "    ret, label, center = cv2.kmeans(Z, k, None, criteria, 10, cv2.KMEANS_RANDOM_CENTERS)\n",
    "\n",
    "    # Convert back to uint8 and map centers to the original image\n",
    "    center = np.uint8(center)\n",
    "    res = center[label.flatten()]\n",
    "    segmented_image = res.reshape((image.shape))\n",
    "\n",
    "    return segmented_image\n",
    "\n",
    "def extract_features(image):\n",
    "    ft = fourier_transform(image)\n",
    "    nf = noise_features(image)\n",
    "    ed = edge_detection(image)\n",
    "    tf = texture_features(image)\n",
    "    seg = segment_image(image) \n",
    "    return np.hstack([ft.ravel(), nf, ed.ravel(), tf.ravel(), seg.ravel()])"
   ]
  },
  {
   "cell_type": "code",
   "execution_count": null,
   "metadata": {},
   "outputs": [],
   "source": [
    "def prepare_dataset(labeled_images, count):\n",
    "    features = []\n",
    "    labels = []  \n",
    "    for image, label in labeled_images:\n",
    "        count = count + 1\n",
    "        if (count % 1000 == 0):\n",
    "            print(f\"{count}/{len(all_files)} completed\")\n",
    "        feat = extract_features(image)\n",
    "        features.append(feat)\n",
    "        labels.append(label)\n",
    "    return np.array(features), np.array(labels)\n",
    "\n",
    "X, y = prepare_dataset(zip(images, all_labels), 0)"
   ]
  },
  {
   "cell_type": "code",
   "execution_count": null,
   "metadata": {},
   "outputs": [],
   "source": [
    "import pickle\n",
    "\n",
    "# Serialización del conjunto de datos\n",
    "def serialize_dataset(features, labels, features_filename, labels_filename):\n",
    "    with open(features_filename, 'wb') as f:\n",
    "        pickle.dump(features, f)\n",
    "    with open(labels_filename, 'wb') as f:\n",
    "        pickle.dump(labels, f)\n",
    "\n",
    "# Deserialización del conjunto de datos\n",
    "def deserialize_dataset(features_filename, labels_filename):\n",
    "    with open(features_filename, 'rb') as f:\n",
    "        features = pickle.load(f)\n",
    "    with open(labels_filename, 'rb') as f:\n",
    "        labels = pickle.load(f)\n",
    "    return features, labels\n",
    "\n",
    "# Serialización\n",
    "serialize_dataset(X, y, '../models/features.pkl', '../models/labels.pkl')\n",
    "\n",
    "# Deserialización\n",
    "X_deserialized, y_deserialized = deserialize_dataset('../models/features.pkl', '../models/labels.pkl')\n",
    "\n",
    "print(\"Características deserializadas (numpy array):\", X_deserialized)\n",
    "print(\"Etiquetas deserializadas (numpy array):\", y_deserialized)"
   ]
  },
  {
   "cell_type": "code",
   "execution_count": null,
   "metadata": {},
   "outputs": [],
   "source": [
    "X_train, X_test, y_train, y_test = train_test_split(X, y, test_size=0.25, random_state=42)"
   ]
  },
  {
   "cell_type": "code",
   "execution_count": null,
   "metadata": {},
   "outputs": [],
   "source": [
    "model = svm.SVC()\n",
    "model.fit(X_train, y_train)"
   ]
  },
  {
   "cell_type": "code",
   "execution_count": null,
   "metadata": {},
   "outputs": [],
   "source": [
    "accuracy = model.score(X_test, y_test)\n",
    "print(f\"Accuracy: {accuracy}\")"
   ]
  }
 ],
 "metadata": {
  "kernelspec": {
   "display_name": "Python 3",
   "language": "python",
   "name": "python3"
  },
  "language_info": {
   "codemirror_mode": {
    "name": "ipython",
    "version": 3
   },
   "file_extension": ".py",
   "mimetype": "text/x-python",
   "name": "python",
   "nbconvert_exporter": "python",
   "pygments_lexer": "ipython3",
   "version": "3.9.13"
  }
 },
 "nbformat": 4,
 "nbformat_minor": 2
}
