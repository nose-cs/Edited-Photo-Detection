{
 "cells": [
  {
   "cell_type": "code",
   "execution_count": null,
   "metadata": {},
   "outputs": [],
   "source": [
    "import cv2\n",
    "import numpy as np\n",
    "import tensorflow as tf\n",
    "from sklearn import svm\n",
    "from sklearn.model_selection import train_test_split\n",
    "from skimage.feature import greycomatrix, greycoprops\n",
    "import os"
   ]
  },
  {
   "cell_type": "code",
   "execution_count": null,
   "metadata": {},
   "outputs": [],
   "source": [
    "# Path to your CASIA2 dataset\n",
    "PATH = '../data/CASIA2'\n",
    "\n",
    "# Directories for authentic and tampered images\n",
    "authentic_dir = os.path.join(PATH, 'Au')\n",
    "tampered_dir = os.path.join(PATH, 'Tp2')\n",
    "\n",
    "IMG_SIZE = (160, 160)\n",
    "\n",
    "def get_file_list_and_labels(directory, label):\n",
    "    file_list = []\n",
    "    labels = []\n",
    "    for root, _, files in os.walk(directory):\n",
    "        for file in files:\n",
    "            if file.lower().endswith(('.png', '.jpg', '.jpeg')):\n",
    "                file_list.append(os.path.join(root, file))\n",
    "                labels.append(label)\n",
    "    return file_list, labels\n",
    "\n",
    "# Get file lists and labels\n",
    "authentic_files, authentic_labels = get_file_list_and_labels(authentic_dir, 0)\n",
    "tampered_files, tampered_labels = get_file_list_and_labels(tampered_dir, 1)\n",
    "\n",
    "# Combine authentic and tampered data\n",
    "all_files = tampered_files + authentic_files\n",
    "all_labels = tampered_labels + authentic_labels"
   ]
  },
  {
   "cell_type": "code",
   "execution_count": null,
   "metadata": {},
   "outputs": [],
   "source": [
    "def load_and_preprocess_image(image_path):\n",
    "    image = cv2.imread(image_path, cv2.IMREAD_GRAYSCALE)\n",
    "    # Check if the image is loaded correctly\n",
    "    if image is None:\n",
    "        raise ValueError(f\"Image at {image_path} could not be loaded.\")\n",
    "    # Resize image\n",
    "    image = cv2.resize(image, IMG_SIZE)\n",
    "    return image\n",
    "\n",
    "# Cargar imágenes\n",
    "images = [load_and_preprocess_image(path) for path in all_files] # leer del dataset"
   ]
  },
  {
   "cell_type": "code",
   "execution_count": null,
   "metadata": {},
   "outputs": [],
   "source": [
    "def fourier_transform(image):\n",
    "    f = np.fft.fft2(image)\n",
    "    fshift = np.fft.fftshift(f)\n",
    "    magnitude_spectrum = 20*np.log(np.abs(fshift))\n",
    "    return magnitude_spectrum\n",
    "\n",
    "def noise_features(image):\n",
    "    # modelo de ruido básico\n",
    "    mean_noise = np.mean(image)\n",
    "    std_noise = np.std(image)\n",
    "    return mean_noise, std_noise\n",
    "\n",
    "def edge_detection(image):\n",
    "    edges = cv2.Canny(image, 100, 200)\n",
    "    return edges\n",
    "\n",
    "def texture_features(image):\n",
    "    g = greycomatrix(image, [1], [0, np.pi/4, np.pi/2, 3*np.pi/4], levels=256)\n",
    "    contrast = greycoprops(g, 'contrast')\n",
    "    return np.mean(contrast)\n",
    "\n",
    "# Compatible with grey scale \n",
    "def segment_image(image, k=4):\n",
    "    # Flatten the image to a 1D array suitable for k-means\n",
    "    Z = image.reshape((-1, 1))\n",
    "\n",
    "    # Convert to float32\n",
    "    Z = np.float32(Z)\n",
    "\n",
    "    # Criteria and k-means application\n",
    "    criteria = (cv2.TERM_CRITERIA_EPS + cv2.TERM_CRITERIA_MAX_ITER, 10, 1.0)\n",
    "    ret, label, center = cv2.kmeans(Z, k, None, criteria, 10, cv2.KMEANS_RANDOM_CENTERS)\n",
    "\n",
    "    # Convert back to uint8 and map centers to the original image\n",
    "    center = np.uint8(center)\n",
    "    res = center[label.flatten()]\n",
    "    segmented_image = res.reshape((image.shape))\n",
    "\n",
    "    return segmented_image\n",
    "\n",
    "# def extract_features(image):\n",
    "#     ft = fourier_transform(image)\n",
    "#     nf = noise_features(image)\n",
    "#     ed = edge_detection(image)\n",
    "#     tf = texture_features(image)\n",
    "#     seg = segment_image(image) \n",
    "#     return np.hstack([ft.ravel(), nf[0].ravel(), nf[1].ravel(), ed.ravel(), tf.ravel(), seg.ravel()])\n",
    "\n",
    "def extract_features(image):\n",
    "    ft = fourier_transform(image).ravel()  # Aplana el resultado de la transformada de Fourier\n",
    "    nf = noise_features(image)  # Retorna dos escalares\n",
    "    ed = edge_detection(image).ravel()  # Aplana los bordes detectados\n",
    "    tf = np.array([texture_features(image)])  # Envuelve el escalar en un arreglo\n",
    "    seg = segment_image(image).ravel()  # Aplana la imagen segmentada\n",
    "    \n",
    "    # Concatena todas las características en un solo arreglo 1D\n",
    "    return np.hstack([ft, nf[0], nf[1], ed, tf, seg])\n",
    "\n",
    "def prepare_dataset(images):\n",
    "    features = []\n",
    "    labels = []  # llenar con 0 (no manipulado) y 1 (manipulado)\n",
    "\n",
    "    total = len(images)\n",
    "    count = 0\n",
    "\n",
    "    for image, label in images:\n",
    "        feat = extract_features(image)\n",
    "        if len(feat) == 294915:\n",
    "            features.append(feat)\n",
    "            labels.append(label)\n",
    "        \n",
    "        count += 1\n",
    "        print(f\"{count}/{total}\")\n",
    "\n",
    "    return np.array(features), np.array(labels)\n",
    "\n",
    "\n",
    "import os\n",
    "au_paths = [os.path.join('D:\\dataset--ml\\CASIA2-Train-Min\\Au', entry) for entry in os.listdir('D:\\dataset--ml\\CASIA2-Train-Min\\Au')]\n",
    "tp_paths = [os.path.join('D:\\dataset--ml\\CASIA2-Train-Min\\Tp', entry) for entry in os.listdir('D:\\dataset--ml\\CASIA2-Train-Min\\Tp')]\n",
    "\n",
    "# Cargar imágenes\n",
    "images = [(load_image(path), 0) for path in au_paths] # leer del dataset\n",
    "images.extend([(load_image(path), 1) for path in tp_paths])\n",
    "\n",
    "# Preparar conjunto de datos\n",
    "X, y = prepare_dataset(images)\n"
   ]
  },
  {
   "cell_type": "code",
   "execution_count": 2,
   "metadata": {},
   "outputs": [
    {
     "name": "stdout",
     "output_type": "stream",
     "text": [
      "X_train shape: (577, 294915)\n",
      "y_train shape: (577,)\n"
     ]
    }
   ],
   "source": [
    "print(\"X_train shape:\", X.shape)\n",
    "print(\"y_train shape:\", y.shape)"
   ]
  },
  {
   "cell_type": "code",
   "execution_count": 3,
   "metadata": {},
   "outputs": [
    {
     "data": {
      "text/html": [
       "<style>#sk-container-id-1 {color: black;background-color: white;}#sk-container-id-1 pre{padding: 0;}#sk-container-id-1 div.sk-toggleable {background-color: white;}#sk-container-id-1 label.sk-toggleable__label {cursor: pointer;display: block;width: 100%;margin-bottom: 0;padding: 0.3em;box-sizing: border-box;text-align: center;}#sk-container-id-1 label.sk-toggleable__label-arrow:before {content: \"▸\";float: left;margin-right: 0.25em;color: #696969;}#sk-container-id-1 label.sk-toggleable__label-arrow:hover:before {color: black;}#sk-container-id-1 div.sk-estimator:hover label.sk-toggleable__label-arrow:before {color: black;}#sk-container-id-1 div.sk-toggleable__content {max-height: 0;max-width: 0;overflow: hidden;text-align: left;background-color: #f0f8ff;}#sk-container-id-1 div.sk-toggleable__content pre {margin: 0.2em;color: black;border-radius: 0.25em;background-color: #f0f8ff;}#sk-container-id-1 input.sk-toggleable__control:checked~div.sk-toggleable__content {max-height: 200px;max-width: 100%;overflow: auto;}#sk-container-id-1 input.sk-toggleable__control:checked~label.sk-toggleable__label-arrow:before {content: \"▾\";}#sk-container-id-1 div.sk-estimator input.sk-toggleable__control:checked~label.sk-toggleable__label {background-color: #d4ebff;}#sk-container-id-1 div.sk-label input.sk-toggleable__control:checked~label.sk-toggleable__label {background-color: #d4ebff;}#sk-container-id-1 input.sk-hidden--visually {border: 0;clip: rect(1px 1px 1px 1px);clip: rect(1px, 1px, 1px, 1px);height: 1px;margin: -1px;overflow: hidden;padding: 0;position: absolute;width: 1px;}#sk-container-id-1 div.sk-estimator {font-family: monospace;background-color: #f0f8ff;border: 1px dotted black;border-radius: 0.25em;box-sizing: border-box;margin-bottom: 0.5em;}#sk-container-id-1 div.sk-estimator:hover {background-color: #d4ebff;}#sk-container-id-1 div.sk-parallel-item::after {content: \"\";width: 100%;border-bottom: 1px solid gray;flex-grow: 1;}#sk-container-id-1 div.sk-label:hover label.sk-toggleable__label {background-color: #d4ebff;}#sk-container-id-1 div.sk-serial::before {content: \"\";position: absolute;border-left: 1px solid gray;box-sizing: border-box;top: 0;bottom: 0;left: 50%;z-index: 0;}#sk-container-id-1 div.sk-serial {display: flex;flex-direction: column;align-items: center;background-color: white;padding-right: 0.2em;padding-left: 0.2em;position: relative;}#sk-container-id-1 div.sk-item {position: relative;z-index: 1;}#sk-container-id-1 div.sk-parallel {display: flex;align-items: stretch;justify-content: center;background-color: white;position: relative;}#sk-container-id-1 div.sk-item::before, #sk-container-id-1 div.sk-parallel-item::before {content: \"\";position: absolute;border-left: 1px solid gray;box-sizing: border-box;top: 0;bottom: 0;left: 50%;z-index: -1;}#sk-container-id-1 div.sk-parallel-item {display: flex;flex-direction: column;z-index: 1;position: relative;background-color: white;}#sk-container-id-1 div.sk-parallel-item:first-child::after {align-self: flex-end;width: 50%;}#sk-container-id-1 div.sk-parallel-item:last-child::after {align-self: flex-start;width: 50%;}#sk-container-id-1 div.sk-parallel-item:only-child::after {width: 0;}#sk-container-id-1 div.sk-dashed-wrapped {border: 1px dashed gray;margin: 0 0.4em 0.5em 0.4em;box-sizing: border-box;padding-bottom: 0.4em;background-color: white;}#sk-container-id-1 div.sk-label label {font-family: monospace;font-weight: bold;display: inline-block;line-height: 1.2em;}#sk-container-id-1 div.sk-label-container {text-align: center;}#sk-container-id-1 div.sk-container {/* jupyter's `normalize.less` sets `[hidden] { display: none; }` but bootstrap.min.css set `[hidden] { display: none !important; }` so we also need the `!important` here to be able to override the default hidden behavior on the sphinx rendered scikit-learn.org. See: https://github.com/scikit-learn/scikit-learn/issues/21755 */display: inline-block !important;position: relative;}#sk-container-id-1 div.sk-text-repr-fallback {display: none;}</style><div id=\"sk-container-id-1\" class=\"sk-top-container\"><div class=\"sk-text-repr-fallback\"><pre>SVC()</pre><b>In a Jupyter environment, please rerun this cell to show the HTML representation or trust the notebook. <br />On GitHub, the HTML representation is unable to render, please try loading this page with nbviewer.org.</b></div><div class=\"sk-container\" hidden><div class=\"sk-item\"><div class=\"sk-estimator sk-toggleable\"><input class=\"sk-toggleable__control sk-hidden--visually\" id=\"sk-estimator-id-1\" type=\"checkbox\" checked><label for=\"sk-estimator-id-1\" class=\"sk-toggleable__label sk-toggleable__label-arrow\">SVC</label><div class=\"sk-toggleable__content\"><pre>SVC()</pre></div></div></div></div></div>"
      ],
      "text/plain": [
       "SVC()"
      ]
     },
     "execution_count": 3,
     "metadata": {},
     "output_type": "execute_result"
    }
   ],
   "source": [
    "model = svm.SVC()\n",
    "model.fit(X, y)"
   ]
  },
  {
   "cell_type": "code",
   "execution_count": null,
   "metadata": {},
   "outputs": [],
   "source": [
    "import os\n",
    "au_test_paths = [os.path.join('D:\\dataset--ml\\CASIA2-Test\\Au', entry) for entry in os.listdir('D:\\dataset--ml\\CASIA2-Test\\Au') if entry.endswith(\".jpg\")]\n",
    "tp_test_paths = [os.path.join('D:\\dataset--ml\\CASIA2-Test\\Tp', entry) for entry in os.listdir('D:\\dataset--ml\\CASIA2-Test\\Tp') if entry.endswith(\".jpg\")]\n",
    "\n",
    "# Cargar imágenes\n",
    "images = [(load_image(path), 0) for path in au_test_paths[:100]] # leer del dataset\n",
    "images.extend([(load_image(path), 1) for path in tp_test_paths[:100]])\n",
    "\n",
    "# Preparar conjunto de datos\n",
    "X_test, y_test = prepare_dataset(images)"
   ]
  },
  {
   "cell_type": "code",
   "execution_count": 5,
   "metadata": {},
   "outputs": [
    {
     "name": "stdout",
     "output_type": "stream",
     "text": [
      "Accuracy: 0.7450980392156863\n"
     ]
    }
   ],
   "source": [
    "# Evaluar modelo\n",
    "accuracy = model.score(X_test, y_test)\n",
    "print(f\"Accuracy: {accuracy}\")"
   ]
  }
 ],
 "metadata": {
  "kernelspec": {
   "display_name": "Python 3",
   "language": "python",
   "name": "python3"
  },
  "language_info": {
   "codemirror_mode": {
    "name": "ipython",
    "version": 3
   },
   "file_extension": ".py",
   "mimetype": "text/x-python",
   "name": "python",
   "nbconvert_exporter": "python",
   "pygments_lexer": "ipython3",
   "version": "3.9.7"
  }
 },
 "nbformat": 4,
 "nbformat_minor": 2
}
